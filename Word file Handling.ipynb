{
 "cells": [
  {
   "cell_type": "code",
   "execution_count": 1,
   "id": "e88e0ddc-4a8f-431f-a014-bc4916bff63f",
   "metadata": {},
   "outputs": [],
   "source": [
    "import docx"
   ]
  },
  {
   "cell_type": "code",
   "execution_count": 2,
   "id": "736b1165-5f30-4b04-8a9d-f6e14a661e3f",
   "metadata": {},
   "outputs": [],
   "source": [
    "doc=docx.Document()"
   ]
  },
  {
   "cell_type": "code",
   "execution_count": 3,
   "id": "57e992ff-993e-4162-ad5e-de879e1ecee3",
   "metadata": {},
   "outputs": [
    {
     "data": {
      "text/plain": [
       "<docx.text.paragraph.Paragraph at 0x2d405affe90>"
      ]
     },
     "execution_count": 3,
     "metadata": {},
     "output_type": "execute_result"
    }
   ],
   "source": [
    "doc.add_heading(\"This is my practice document file\")"
   ]
  },
  {
   "cell_type": "code",
   "execution_count": 4,
   "id": "2250fa48-42a8-4dff-a724-c359be9196b0",
   "metadata": {},
   "outputs": [
    {
     "data": {
      "text/plain": [
       "<docx.text.paragraph.Paragraph at 0x2d405aafb00>"
      ]
     },
     "execution_count": 4,
     "metadata": {},
     "output_type": "execute_result"
    }
   ],
   "source": [
    "doc.add_paragraph(\"1st. this is a paragraph\")"
   ]
  },
  {
   "cell_type": "code",
   "execution_count": 5,
   "id": "811eceff-de1d-48cc-bfa3-b66b5ba12f1d",
   "metadata": {},
   "outputs": [
    {
     "data": {
      "text/plain": [
       "<docx.text.paragraph.Paragraph at 0x2d405b2d940>"
      ]
     },
     "execution_count": 5,
     "metadata": {},
     "output_type": "execute_result"
    }
   ],
   "source": [
    "doc.add_paragraph(\"2nd. this is a paragraph\")"
   ]
  },
  {
   "cell_type": "code",
   "execution_count": 6,
   "id": "cb3dc48e-71e4-4040-9cf7-c1e0f00452dd",
   "metadata": {},
   "outputs": [
    {
     "data": {
      "text/plain": [
       "<docx.text.paragraph.Paragraph at 0x2d405764c50>"
      ]
     },
     "execution_count": 6,
     "metadata": {},
     "output_type": "execute_result"
    }
   ],
   "source": [
    "doc.add_paragraph(\"3rd. this is a paragraph\")"
   ]
  },
  {
   "cell_type": "code",
   "execution_count": 7,
   "id": "f3f456a3-8d8a-4db8-a9f3-c6ded08e6106",
   "metadata": {},
   "outputs": [
    {
     "data": {
      "text/plain": [
       "<docx.text.paragraph.Paragraph at 0x2d405afe360>"
      ]
     },
     "execution_count": 7,
     "metadata": {},
     "output_type": "execute_result"
    }
   ],
   "source": [
    "doc.add_page_break()"
   ]
  },
  {
   "cell_type": "code",
   "execution_count": 8,
   "id": "9f3b4401-566f-4779-8e91-15e7aa435f10",
   "metadata": {},
   "outputs": [
    {
     "data": {
      "text/plain": [
       "<docx.text.paragraph.Paragraph at 0x2d405b2e8d0>"
      ]
     },
     "execution_count": 8,
     "metadata": {},
     "output_type": "execute_result"
    }
   ],
   "source": [
    "doc.add_heading(\"This is my practice document file\",)"
   ]
  },
  {
   "cell_type": "code",
   "execution_count": 9,
   "id": "0e724879-7358-4cd8-8b1c-8e0e4b1d81ec",
   "metadata": {},
   "outputs": [],
   "source": [
    "doc.save(\"document.docx\")"
   ]
  },
  {
   "cell_type": "code",
   "execution_count": 10,
   "id": "c5f273d1-469c-4e01-ad00-6116bc12731a",
   "metadata": {},
   "outputs": [],
   "source": [
    "from docx import Document\n",
    "d1=Document(\"document.docx\")"
   ]
  },
  {
   "cell_type": "code",
   "execution_count": 11,
   "id": "a9086667-4af1-4f60-b74d-3d0410845fff",
   "metadata": {},
   "outputs": [],
   "source": [
    "doc=Document(\"document.docx\")"
   ]
  },
  {
   "cell_type": "code",
   "execution_count": 12,
   "id": "5e636236-b043-4a5a-9889-a1b626aad62b",
   "metadata": {},
   "outputs": [
    {
     "name": "stdout",
     "output_type": "stream",
     "text": [
      "this my file content\n",
      "\n",
      "This is my practice document file\n",
      "1st. this is a paragraph\n",
      "2nd. this is a paragraph\n",
      "3rd. this is a paragraph\n",
      "\n",
      "This is my practice document file\n"
     ]
    }
   ],
   "source": [
    "print(\"this my file content\\n\")\n",
    "\n",
    "for para in doc.paragraphs:\n",
    "    print(para.text)"
   ]
  },
  {
   "cell_type": "code",
   "execution_count": null,
   "id": "94ad196a-7c22-4ffa-9c1f-0194610d22f2",
   "metadata": {},
   "outputs": [],
   "source": []
  },
  {
   "cell_type": "code",
   "execution_count": null,
   "id": "c7924411-eb1b-4754-a2da-b8af3b72514f",
   "metadata": {},
   "outputs": [],
   "source": []
  }
 ],
 "metadata": {
  "kernelspec": {
   "display_name": "Python 3 (ipykernel)",
   "language": "python",
   "name": "python3"
  },
  "language_info": {
   "codemirror_mode": {
    "name": "ipython",
    "version": 3
   },
   "file_extension": ".py",
   "mimetype": "text/x-python",
   "name": "python",
   "nbconvert_exporter": "python",
   "pygments_lexer": "ipython3",
   "version": "3.12.3"
  }
 },
 "nbformat": 4,
 "nbformat_minor": 5
}
